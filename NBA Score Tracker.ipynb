{
 "cells": [
  {
   "cell_type": "markdown",
   "metadata": {},
   "source": [
    "# NBA Score Tracker"
   ]
  },
  {
   "cell_type": "code",
   "execution_count": 1,
   "metadata": {},
   "outputs": [],
   "source": [
    "from requests import get\n",
    "from pprint import PrettyPrinter"
   ]
  },
  {
   "cell_type": "code",
   "execution_count": 2,
   "metadata": {},
   "outputs": [],
   "source": [
    "BASE_URL = \"https://data.nba.net\"\n",
    "ALL_JSON = \"/prod/v1/today.json\"\n",
    "#data = get(BASE_URL + ALL_JSON).json()"
   ]
  },
  {
   "cell_type": "code",
   "execution_count": 6,
   "metadata": {
    "scrolled": true
   },
   "outputs": [
    {
     "name": "stdout",
     "output_type": "stream",
     "text": [
      "PHI vs MIL\n",
      " - \n",
      " - Period:0\n",
      "---------------------------------------------------------------------------\n",
      "WAS vs CHI\n",
      " - \n",
      " - Period:0\n",
      "---------------------------------------------------------------------------\n",
      "BKN vs DET\n",
      " - \n",
      " - Period:0\n",
      "---------------------------------------------------------------------------\n",
      "DAL vs LAL\n",
      " - \n",
      " - Period:0\n",
      "---------------------------------------------------------------------------\n",
      "LAC vs UTA\n",
      " - \n",
      " - Period:0\n",
      "---------------------------------------------------------------------------\n"
     ]
    }
   ],
   "source": [
    "def get_links():\n",
    "    data = get(BASE_URL + ALL_JSON).json()\n",
    "    links = data['links']\n",
    "    return links\n",
    "\n",
    "def get_scoreboard():\n",
    "    scoreboard = get_links()['currentScoreboard']\n",
    "    games = get(BASE_URL + scoreboard).json()['games']\n",
    "    \n",
    "    for game in games:\n",
    "        home_team = game['hTeam']\n",
    "        away_team = game['vTeam']\n",
    "        clock = game['clock']\n",
    "        period = game['period']\n",
    "        \n",
    "        print(f\"{home_team['triCode']} vs {away_team['triCode']}\")\n",
    "        print(f\"{home_team['score']} - {away_team['score']}\")\n",
    "        print(f\"{clock} - Period:{period['current']}\")\n",
    "              \n",
    "        print(\"---------------------------------------------------------------------------\")\n",
    "        \n",
    "\n",
    "    \n",
    "get_scoreboard()"
   ]
  },
  {
   "cell_type": "markdown",
   "metadata": {},
   "source": [
    "## Bonus: Current Team Rankings Report"
   ]
  },
  {
   "cell_type": "code",
   "execution_count": 8,
   "metadata": {},
   "outputs": [
    {
     "name": "stdout",
     "output_type": "stream",
     "text": [
      "1. Memphis = Grizzlies - {'avg': '115.4', 'rank': '1'}\n",
      "2. Minnesota = Timberwolves - {'avg': '115.4', 'rank': '2'}\n",
      "3. Phoenix = Suns - {'avg': '115.3', 'rank': '3'}\n",
      "4. Milwaukee = Bucks - {'avg': '114.9', 'rank': '4'}\n",
      "5. Charlotte = Hornets - {'avg': '114.7', 'rank': '5'}\n",
      "6. Utah = Jazz - {'avg': '113.3', 'rank': '6'}\n",
      "7. Atlanta = Hawks - {'avg': '113.2', 'rank': '7'}\n",
      "8. San Antonio = Spurs - {'avg': '113.0', 'rank': '8'}\n",
      "9. Brooklyn = Nets - {'avg': '112.2', 'rank': '9'}\n",
      "10. Denver = Nuggets - {'avg': '111.8', 'rank': '10'}\n",
      "11. Los Angeles = Lakers - {'avg': '111.6', 'rank': '11'}\n",
      "12. Chicago = Bulls - {'avg': '111.5', 'rank': '12'}\n",
      "13. Golden State = Warriors - {'avg': '110.8', 'rank': '13'}\n",
      "14. Boston = Celtics - {'avg': '110.8', 'rank': '14'}\n",
      "15. Indiana = Pacers - {'avg': '110.7', 'rank': '15'}\n",
      "16. Sacramento = Kings - {'avg': '110.4', 'rank': '16'}\n",
      "17. Miami = Heat - {'avg': '109.3', 'rank': '17'}\n",
      "18. Houston = Rockets - {'avg': '109.2', 'rank': '18'}\n",
      "19. Toronto = Raptors - {'avg': '109.1', 'rank': '19'}\n",
      "20. Philadelphia = 76ers - {'avg': '108.8', 'rank': '20'}\n",
      "21. New Orleans = Pelicans - {'avg': '108.8', 'rank': '21'}\n",
      "22. Washington = Wizards - {'avg': '108.3', 'rank': '22'}\n",
      "23. Portland = Trail Blazers - {'avg': '107.4', 'rank': '23'}\n",
      "24. Cleveland = Cavaliers - {'avg': '107.2', 'rank': '24'}\n",
      "25. Dallas = Mavericks - {'avg': '106.7', 'rank': '25'}\n",
      "26. LA = Clippers - {'avg': '106.7', 'rank': '26'}\n",
      "27. New York = Knicks - {'avg': '106.3', 'rank': '27'}\n",
      "28. Detroit = Pistons - {'avg': '104.3', 'rank': '28'}\n",
      "29. Orlando = Magic - {'avg': '104.1', 'rank': '29'}\n",
      "30. Oklahoma City = Thunder - {'avg': '103.8', 'rank': '30'}\n"
     ]
    }
   ],
   "source": [
    "def get_stats():\n",
    "    stats = get_links()['leagueTeamStatsLeaders']\n",
    "    teams = get(BASE_URL + stats).json()['league']['standard']['regularSeason']['teams']\n",
    "    \n",
    "    teams = list(filter(lambda x: x['name'] != \"Team\", teams))\n",
    "    teams.sort(key=lambda x: int(x['ppg']['rank']))\n",
    "    \n",
    "    for i, team in enumerate(teams):\n",
    "        name = team['name']\n",
    "        nickname = team['nickname']\n",
    "        ppg = team['ppg']\n",
    "        \n",
    "        print(f\"{i + 1}. {name} = {nickname} - {ppg}\")\n",
    "    \n",
    "get_stats()"
   ]
  }
 ],
 "metadata": {
  "kernelspec": {
   "display_name": "Python 3",
   "language": "python",
   "name": "python3"
  },
  "language_info": {
   "codemirror_mode": {
    "name": "ipython",
    "version": 3
   },
   "file_extension": ".py",
   "mimetype": "text/x-python",
   "name": "python",
   "nbconvert_exporter": "python",
   "pygments_lexer": "ipython3",
   "version": "3.6.7"
  }
 },
 "nbformat": 4,
 "nbformat_minor": 2
}
